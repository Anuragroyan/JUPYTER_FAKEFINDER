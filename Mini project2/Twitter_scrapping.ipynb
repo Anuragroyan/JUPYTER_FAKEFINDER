{
 "cells": [
  {
   "cell_type": "code",
   "execution_count": 14,
   "metadata": {},
   "outputs": [],
   "source": [
    "import tweepy"
   ]
  },
  {
   "cell_type": "code",
   "execution_count": 15,
   "metadata": {},
   "outputs": [],
   "source": [
    " # twitter api credential\n",
    "consumer_key = 'ElZl5QPXfzH2ZzCXBsX7ftPxr'\n",
    "consumer_secret = 'wgsA4szsCcULbaCeR1J9aCOlJiM481ucNIMOsY8XBABxnh3Igm'\n",
    "access_token = '1321858847015727104-JZHJhElculqwffxDDnfOHyU2owOg8Y'\n",
    "access_token_secret = 'XdHY2Gtu2uXT27oM7aH4rtNco2Qj3GEzXSd0gyxYkgPSH'"
   ]
  },
  {
   "cell_type": "code",
   "execution_count": 16,
   "metadata": {},
   "outputs": [],
   "source": [
    "auth = tweepy.OAuthHandler(consumer_key, consumer_secret)\n",
    "auth.set_access_token(access_token, access_token_secret)"
   ]
  },
  {
   "cell_type": "code",
   "execution_count": 17,
   "metadata": {},
   "outputs": [],
   "source": [
    "api = tweepy.API(auth)"
   ]
  },
  {
   "cell_type": "code",
   "execution_count": 18,
   "metadata": {},
   "outputs": [
    {
     "name": "stdout",
     "output_type": "stream",
     "text": [
      "We all have something to contribute, and when we come together, the results are beautiful. For the 2020 Internation… https://t.co/lVmSXwZCjd\n",
      "The pandemic-wary domestic and foreign tourists have largely avoided the Kaziranga National Park and Tiger Reserve… https://t.co/WPf3aSGkDI\n",
      "Chemban Vellayan Kolumban, the tribal chieftain who was instrumental in Idukki dam’s construction, has got a befitt… https://t.co/QSYW2TPXTQ\n",
      "RT @ndtvvideos: सड़कों पर प्रैक्टिस करने को मजबूर हैं कलाकार https://t.co/oXFKh0o5f6\n",
      "Analysis | There are at least 3 points of wide agreement and 3 points of heightening conflicts in the U.S. that thi… https://t.co/A1vQtjGhEc\n",
      "RT @ndtvvideos: दिल्ली में बस में बैठेंगे अब सीटों के बराबर यात्री\n",
      "\n",
      "#COVID19 #Delhi https://t.co/vH1T4xrteK\n",
      "RT @ndtvvideos: सुरक्षाबलों के साथ मुठभेड़ में हिजबुल मुजाहिदीन का प्रमुख मारा गया https://t.co/slO2pDsPI8\n",
      "RT @ndtvvideos: सब्जियों के दाम हैं चुनावी मुद्दा?\n",
      "\n",
      "#BiharElections https://t.co/GWXrIhAkz6\n",
      "RT @ndtvvideos: कब गुलजार होंगे दिल्ली के बाजार? https://t.co/NIk99Sacqr\n",
      "The Assam-Mizoram border row continued for the 5th consecutive day with the authorities of both the States failing… https://t.co/CIeykzAqlO\n",
      "India slammed Pakistan for its attempt to accord provincial status to the “so-called Gilgit-Baltistan”, saying it i… https://t.co/pGE4a5MmzR\n",
      "Trump presents himself as an ‘outsider’; Obama joins Joe Biden in attacking the President’s virus response, reports… https://t.co/5yFIDfIopS\n",
      "RT @TheHinduSports: #KKR will now wait for the results of the last two fixtures between DC and RCB followed by MI against SRH to know if th…\n",
      "We’ve been asking you what you would pack with you on a trip to the Moon. But are you in need of some inspiration?… https://t.co/eEMlgiezsr\n",
      "Three Rafale fighter jets of the Indian Air Force are scheduled to arrive on November 4 flying non-stop from France… https://t.co/2AnYfHUClb\n",
      "RT @TheHinduSports: Just in | Kolkata Knight Riders beat Rajasthan Royals by 60 runs in an Indian Premier League game in Dubai on Sunday. P…\n",
      "Analysis | After the initial uncertainty, relations with India picked up steam under Trump, writes @suhasinih… https://t.co/md4uAofqsg\n",
      "It was again over 7,000 COVID-19 cases in Kerala, with the State testing 50,000 samples and detecting 7,025 new cas… https://t.co/ahjxASkeQs\n",
      "The Congress on Sunday accused the Narendra Modi government of letting stocks rot and artificially increasing the p… https://t.co/6AVTXU88LE\n",
      "Congress released a video of former legislator Somabhai Patel “admitting” that the BJP paid ₹10 crore to each of th… https://t.co/tGkdvrTfks\n"
     ]
    }
   ],
   "source": [
    "public_tweets = api.home_timeline()\n",
    "for tweet in public_tweets:\n",
    "    print(tweet.text)"
   ]
  },
  {
   "cell_type": "code",
   "execution_count": 19,
   "metadata": {},
   "outputs": [
    {
     "name": "stdout",
     "output_type": "stream",
     "text": [
      "Twitter\n",
      "58421638\n",
      "LACity\n",
      "CityofSeattle\n",
      "chicago\n",
      "MiamiBeachNews\n",
      "CityofMiami\n",
      "NJGov\n",
      "inAsburyParkNJ\n",
      "JerseyCity\n",
      "OscarTheGrouch\n"
     ]
    }
   ],
   "source": [
    "user = api.get_user('twitter')\n",
    "print(user.screen_name)\n",
    "print(user.followers_count)\n",
    "for friend in user.friends():\n",
    "   print(friend.screen_name) "
   ]
  },
  {
   "cell_type": "code",
   "execution_count": null,
   "metadata": {},
   "outputs": [],
   "source": []
  }
 ],
 "metadata": {
  "kernelspec": {
   "display_name": "Python 3",
   "language": "python",
   "name": "python3"
  },
  "language_info": {
   "codemirror_mode": {
    "name": "ipython",
    "version": 3
   },
   "file_extension": ".py",
   "mimetype": "text/x-python",
   "name": "python",
   "nbconvert_exporter": "python",
   "pygments_lexer": "ipython3",
   "version": "3.7.3"
  }
 },
 "nbformat": 4,
 "nbformat_minor": 2
}
