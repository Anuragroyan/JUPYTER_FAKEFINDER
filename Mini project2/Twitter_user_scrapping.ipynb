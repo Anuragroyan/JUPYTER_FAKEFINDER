{
 "cells": [
  {
   "cell_type": "code",
   "execution_count": 22,
   "metadata": {},
   "outputs": [],
   "source": [
    "import tweepy,sys"
   ]
  },
  {
   "cell_type": "code",
   "execution_count": 23,
   "metadata": {},
   "outputs": [],
   "source": [
    "def twitter_auth():\n",
    "    try:\n",
    "        consumer_key = 'ElZl5QPXfzH2ZzCXBsX7ftPxr'\n",
    "        consumer_secret = 'wgsA4szsCcULbaCeR1J9aCOlJiM481ucNIMOsY8XBABxnh3Igm'\n",
    "        access_token = '1321858847015727104-JZHJhElculqwffxDDnfOHyU2owOg8Y'\n",
    "        access_token_secret = 'XdHY2Gtu2uXT27oM7aH4rtNco2Qj3GEzXSd0gyxYkgPSH'\n",
    "    except KeyError:\n",
    "        sys.stderr.write(\"TWITTER_* environment variable not set \\n\")\n",
    "        sys.exit(1)\n",
    "\n",
    "    auth = tweepy.OAuthHandler(consumer_key, consumer_secret) \n",
    "    auth.set_access_token(access_token, access_token_secret)   \n",
    "    return auth"
   ]
  },
  {
   "cell_type": "code",
   "execution_count": 24,
   "metadata": {},
   "outputs": [],
   "source": [
    "def get_twitter_client():\n",
    "     auth = twitter_auth()\n",
    "     client = tweepy.API(auth, wait_on_rate_limit=True)   \n",
    "     return client "
   ]
  },
  {
   "cell_type": "code",
   "execution_count": null,
   "metadata": {},
   "outputs": [],
   "source": [
    "if __name__ == '__main__':\n",
    "    user = input(\"enter username: \")\n",
    "    client = get_twitter_client()\n",
    "    for status in tweepy.Cursor(client.home_timeline, screen_name=user).items(limit=60):\n",
    "        print(status.text)    "
   ]
  },
  {
   "cell_type": "code",
   "execution_count": null,
   "metadata": {},
   "outputs": [],
   "source": []
  }
 ],
 "metadata": {
  "kernelspec": {
   "display_name": "Python 3",
   "language": "python",
   "name": "python3"
  },
  "language_info": {
   "codemirror_mode": {
    "name": "ipython",
    "version": 3
   },
   "file_extension": ".py",
   "mimetype": "text/x-python",
   "name": "python",
   "nbconvert_exporter": "python",
   "pygments_lexer": "ipython3",
   "version": "3.7.3"
  }
 },
 "nbformat": 4,
 "nbformat_minor": 2
}
